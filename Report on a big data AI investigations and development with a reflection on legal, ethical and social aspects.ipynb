{
 "cells": [
  {
   "cell_type": "code",
   "execution_count": 16,
   "id": "b6bf85cd",
   "metadata": {},
   "outputs": [
    {
     "name": "stdout",
     "output_type": "stream",
     "text": [
      "['Anaconda3-2024.02-1-Windows-x86_64.exe', 'archive (1).zip', 'archive (2).zip', 'archive.zip', 'Assignment week 1 TASK (1).ipynb', 'Assignment week 1 TASK (2).ipynb', 'Assignment week 1 TASK.ipynb', 'bookloans.csv', 'bookloans_2024.csv', 'books.csv', 'books_2024.csv', 'BPP4D3E (1).zip', 'BPP4D3E.zip', 'Copy of Untitled4.ipynb', 'CSC-40076-A2 Feedback 24022119 (1).xlsx', 'CSC-40076-A2 Feedback 24022119.xlsx', 'CSC40076 Reassessment 1 24022119 Feedback.xlsx', 'CSC40094 4.8 Assessment ARUBAYI (1).pdf', 'CSC40094 4.8 Assessment ARUBAYI (2).pdf', 'CSC40094 4.8 Assessment ARUBAYI (3).pdf', 'CSC40094 4.8 Assessment ARUBAYI.pdf', 'desktop.ini', 'download.png', 'IMG_2687 (1).png', 'IMG_2687.png', 'members_2024.csv', 'Miniconda3-latest-Windows-x86_64 (1).exe', 'Miniconda3-latest-Windows-x86_64.exe', 'moon dataset onajeme.ipynb', 'onajeme arubayi .docx', 'onajeme assessment 1 (1).ipynb', 'onajeme assessment 1.ipynb', 'onajeme assessment 2.ipynb', 'python-3.8.2 (1).exe', 'python-3.8.2.exe', 'Python_Interactive_Mode.pdf', 'steam-200k.csv', 'steam-200k.csv.zip']\n"
     ]
    }
   ],
   "source": [
    "import zipfile\n",
    "import os\n",
    "\n",
    "# Function to Define the path for the uploaded zip file and extract location\n",
    "zip_file_path = r\"C:\\Users\\jamie\\Downloads\\steam-200k.csv.zip\"\n",
    "extract_path = r\"C:\\Users\\jamie\\Downloads\"\n",
    "\n",
    "# Functions to Extract the zip file\n",
    "with zipfile.ZipFile(zip_file_path, 'r') as zip_ref:\n",
    "    zip_ref.extractall(extract_path)\n",
    "\n",
    "# Functions to Check the extracted files\n",
    "extracted_files = os.listdir(extract_path)\n",
    "print(extracted_files)\n"
   ]
  },
  {
   "cell_type": "code",
   "execution_count": 12,
   "id": "ae3181ce",
   "metadata": {},
   "outputs": [
    {
     "data": {
      "text/html": [
       "<div>\n",
       "<style scoped>\n",
       "    .dataframe tbody tr th:only-of-type {\n",
       "        vertical-align: middle;\n",
       "    }\n",
       "\n",
       "    .dataframe tbody tr th {\n",
       "        vertical-align: top;\n",
       "    }\n",
       "\n",
       "    .dataframe thead th {\n",
       "        text-align: right;\n",
       "    }\n",
       "</style>\n",
       "<table border=\"1\" class=\"dataframe\">\n",
       "  <thead>\n",
       "    <tr style=\"text-align: right;\">\n",
       "      <th></th>\n",
       "      <th>151603712</th>\n",
       "      <th>The Elder Scrolls V Skyrim</th>\n",
       "      <th>purchase</th>\n",
       "      <th>1.0</th>\n",
       "      <th>0</th>\n",
       "    </tr>\n",
       "  </thead>\n",
       "  <tbody>\n",
       "    <tr>\n",
       "      <th>0</th>\n",
       "      <td>151603712</td>\n",
       "      <td>The Elder Scrolls V Skyrim</td>\n",
       "      <td>play</td>\n",
       "      <td>273.0</td>\n",
       "      <td>0</td>\n",
       "    </tr>\n",
       "    <tr>\n",
       "      <th>1</th>\n",
       "      <td>151603712</td>\n",
       "      <td>Fallout 4</td>\n",
       "      <td>purchase</td>\n",
       "      <td>1.0</td>\n",
       "      <td>0</td>\n",
       "    </tr>\n",
       "    <tr>\n",
       "      <th>2</th>\n",
       "      <td>151603712</td>\n",
       "      <td>Fallout 4</td>\n",
       "      <td>play</td>\n",
       "      <td>87.0</td>\n",
       "      <td>0</td>\n",
       "    </tr>\n",
       "    <tr>\n",
       "      <th>3</th>\n",
       "      <td>151603712</td>\n",
       "      <td>Spore</td>\n",
       "      <td>purchase</td>\n",
       "      <td>1.0</td>\n",
       "      <td>0</td>\n",
       "    </tr>\n",
       "    <tr>\n",
       "      <th>4</th>\n",
       "      <td>151603712</td>\n",
       "      <td>Spore</td>\n",
       "      <td>play</td>\n",
       "      <td>14.9</td>\n",
       "      <td>0</td>\n",
       "    </tr>\n",
       "  </tbody>\n",
       "</table>\n",
       "</div>"
      ],
      "text/plain": [
       "   151603712  The Elder Scrolls V Skyrim  purchase    1.0  0\n",
       "0  151603712  The Elder Scrolls V Skyrim      play  273.0  0\n",
       "1  151603712                   Fallout 4  purchase    1.0  0\n",
       "2  151603712                   Fallout 4      play   87.0  0\n",
       "3  151603712                       Spore  purchase    1.0  0\n",
       "4  151603712                       Spore      play   14.9  0"
      ]
     },
     "execution_count": 12,
     "metadata": {},
     "output_type": "execute_result"
    }
   ],
   "source": [
    "import pandas as pd\n",
    "\n",
    "# Function to Load the CSV file into a DataFrame\n",
    "csv_file_path = r\"C:\\Users\\jamie\\Downloads\\steam-200k.csv.zip\"\n",
    "steam_df = pd.read_csv(csv_file_path)\n",
    "\n",
    "# Function to display the first few rows of the dataset to check\n",
    "steam_df.head()\n"
   ]
  },
  {
   "cell_type": "code",
   "execution_count": 17,
   "id": "0c336c06",
   "metadata": {
    "scrolled": false
   },
   "outputs": [
    {
     "name": "stdout",
     "output_type": "stream",
     "text": [
      "<class 'pandas.core.frame.DataFrame'>\n",
      "RangeIndex: 199999 entries, 0 to 199998\n",
      "Data columns (total 5 columns):\n",
      " #   Column        Non-Null Count   Dtype  \n",
      "---  ------        --------------   -----  \n",
      " 0   User_ID       199999 non-null  int64  \n",
      " 1   Game_Title    199999 non-null  object \n",
      " 2   Action        199999 non-null  object \n",
      " 3   Hours_Played  199999 non-null  float64\n",
      " 4   Flag          199999 non-null  int64  \n",
      "dtypes: float64(1), int64(2), object(2)\n",
      "memory usage: 7.6+ MB\n"
     ]
    },
    {
     "data": {
      "text/plain": [
       "(None,\n",
       "             User_ID   Hours_Played      Flag\n",
       " count  1.999990e+05  199999.000000  199999.0\n",
       " mean   1.036556e+08      17.874468       0.0\n",
       " std    7.208084e+07     138.057292       0.0\n",
       " min    5.250000e+03       0.100000       0.0\n",
       " 25%    4.738420e+07       1.000000       0.0\n",
       " 50%    8.691201e+07       1.000000       0.0\n",
       " 75%    1.542309e+08       1.300000       0.0\n",
       " max    3.099031e+08   11754.000000       0.0)"
      ]
     },
     "execution_count": 17,
     "metadata": {},
     "output_type": "execute_result"
    }
   ],
   "source": [
    "# Function to Assign appropriate column names\n",
    "steam_df.columns = ['User_ID', 'Game_Title', 'Action', 'Hours_Played', 'Flag']\n",
    "\n",
    "# Function to Check for any missing values and get a summary statistics\n",
    "steam_df.info(), steam_df.describe()\n"
   ]
  },
  {
   "cell_type": "code",
   "execution_count": 13,
   "id": "9ecd4756",
   "metadata": {},
   "outputs": [
    {
     "name": "stdout",
     "output_type": "stream",
     "text": [
      "Accuracy: 0.99\n",
      "Classification Report:\n",
      "               precision    recall  f1-score   support\n",
      "\n",
      "           0       0.97      0.99      0.98     14184\n",
      "           1       0.99      0.99      0.99     25816\n",
      "\n",
      "    accuracy                           0.99     40000\n",
      "   macro avg       0.98      0.99      0.98     40000\n",
      "weighted avg       0.99      0.99      0.99     40000\n",
      "\n",
      "Confusion Matrix:\n",
      " [[13985   199]\n",
      " [  387 25429]]\n"
     ]
    }
   ],
   "source": [
    "import pandas as pd\n",
    "from sklearn.tree import DecisionTreeClassifier\n",
    "from sklearn.model_selection import train_test_split\n",
    "from sklearn.metrics import accuracy_score, classification_report, confusion_matrix\n",
    "from sklearn.preprocessing import LabelEncoder\n",
    "\n",
    "# Assuming you already have the CSV file loaded as a DataFrame\n",
    "data = pd.read_csv( r\"C:\\Users\\jamie\\Downloads\\steam-200k.csv.zip\")  # Replace with your actual file path\n",
    "\n",
    "# Assign appropriate column names if needed\n",
    "data.columns = ['User_ID', 'Game_Title', 'Action', 'Hours_Played', 'Flag']\n",
    "\n",
    "# Drop the 'Flag' column as it is not useful\n",
    "data = data.drop(columns=['Flag'])\n",
    "\n",
    "# Label Encoding for categorical features\n",
    "label_encoder = LabelEncoder()\n",
    "\n",
    "# Encode 'Action' (target variable): 'purchase' -> 0, 'play' -> 1\n",
    "data['Action'] = label_encoder.fit_transform(data['Action'])\n",
    "\n",
    "# Encode 'Game_Title' (categorical feature)\n",
    "data['Game_Title'] = label_encoder.fit_transform(data['Game_Title'])\n",
    "\n",
    "# Split the dataset into features (X) and labels (y)\n",
    "X = data[['User_ID', 'Game_Title', 'Hours_Played']]\n",
    "y = data['Action']\n",
    "\n",
    "# Split into training and test sets (80% train, 20% test)\n",
    "X_train, X_test, y_train, y_test = train_test_split(X, y, test_size=0.2, random_state=42)\n",
    "\n",
    "# Build and train the Decision Tree model\n",
    "clf = DecisionTreeClassifier(random_state=42)\n",
    "clf.fit(X_train, y_train)\n",
    "\n",
    "# Make predictions on the test set\n",
    "y_pred = clf.predict(X_test)\n",
    "\n",
    "# Evaluate the model\n",
    "accuracy = accuracy_score(y_test, y_pred)\n",
    "print(f'Accuracy: {accuracy:.2f}')\n",
    "\n",
    "# Print classification report\n",
    "print(\"Classification Report:\\n\", classification_report(y_test, y_pred))\n",
    "\n",
    "# Print confusion matrix\n",
    "print(\"Confusion Matrix:\\n\", confusion_matrix(y_test, y_pred))\n"
   ]
  },
  {
   "cell_type": "code",
   "execution_count": 14,
   "id": "3faeccc1",
   "metadata": {},
   "outputs": [
    {
     "name": "stdout",
     "output_type": "stream",
     "text": [
      "Cross-Validation Accuracy Scores: [0.983525   0.98885    0.98265    0.986725   0.98922473]\n",
      "Mean Accuracy: 0.99\n",
      "Standard Deviation: 0.00\n"
     ]
    }
   ],
   "source": [
    "from sklearn.model_selection import cross_val_score\n",
    "from sklearn.tree import DecisionTreeClassifier\n",
    "\n",
    "# Function to Build the Decision Tree model\n",
    "clf = DecisionTreeClassifier(random_state=42)\n",
    "\n",
    "# Function to Perform 5-Fold Cross-Validation (you can change the number of folds)\n",
    "cv_scores = cross_val_score(clf, X, y, cv=5, scoring='accuracy')\n",
    "\n",
    "# Display the cross-validation scores\n",
    "print(f'Cross-Validation Accuracy Scores: {cv_scores}')\n",
    "print(f'Mean Accuracy: {cv_scores.mean():.2f}')\n",
    "print(f'Standard Deviation: {cv_scores.std():.2f}')\n"
   ]
  },
  {
   "cell_type": "code",
   "execution_count": 18,
   "id": "a2f16bf6",
   "metadata": {
    "scrolled": true
   },
   "outputs": [
    {
     "data": {
      "image/png": "[encoded data removed]",
      "text/plain": [
       "<Figure size 640x480 with 2 Axes>"
      ]
     },
     "metadata": {},
     "output_type": "display_data"
    }
   ],
   "source": [
    "import seaborn as sns\n",
    "import matplotlib.pyplot as plt\n",
    "from sklearn.metrics import confusion_matrix\n",
    "#Function to generate heat map\n",
    "cm = confusion_matrix(y_test, y_pred)\n",
    "sns.heatmap(cm, annot=True, fmt=\"d\", cmap=\"Blues\")\n",
    "plt.show()\n"
   ]
  },
  {
   "cell_type": "code",
   "execution_count": 19,
   "id": "f034f582",
   "metadata": {},
   "outputs": [
    {
     "data": {
      "image/png": "[encoded data removed]",
      "text/plain": [
       "<Figure size 800x600 with 1 Axes>"
      ]
     },
     "metadata": {},
     "output_type": "display_data"
    }
   ],
   "source": [
    "import numpy as np\n",
    "import matplotlib.pyplot as plt\n",
    "\n",
    "# Function to Define the metrics for each class\n",
    "metrics = {\n",
    "    \"Class\": [\"Purchase\", \"Play\"],\n",
    "    \"Precision\": [0.97, 0.99],\n",
    "    \"Recall\": [0.99, 0.99],\n",
    "    \"F1-Score\": [0.98, 0.99]\n",
    "}\n",
    "\n",
    "# Function to Create a bar plot for Precision, Recall, and F1-Score\n",
    "x = np.arange(len(metrics[\"Class\"]))  # label locations\n",
    "width = 0.2  # bar width\n",
    "\n",
    "fig, ax = plt.subplots(figsize=(8, 6))\n",
    "\n",
    "# Function to Plot bars for each metric\n",
    "rects1 = ax.bar(x - width, metrics[\"Precision\"], width, label=\"Precision\", color='royalblue')\n",
    "rects2 = ax.bar(x, metrics[\"Recall\"], width, label=\"Recall\", color='seagreen')\n",
    "rects3 = ax.bar(x + width, metrics[\"F1-Score\"], width, label=\"F1-Score\", color='coral')\n",
    "\n",
    "# Add some text for labels, title, and custom x-axis tick labels for bar chart\n",
    "ax.set_xlabel('Class')\n",
    "ax.set_ylabel('Scores')\n",
    "ax.set_title('Precision, Recall, and F1-Score by Class')\n",
    "ax.set_xticks(x)\n",
    "ax.set_xticklabels(metrics[\"Class\"])\n",
    "ax.legend()\n",
    "\n",
    "# Display the chart\n",
    "plt.show()\n"
   ]
  },
  {
   "cell_type": "code",
   "execution_count": null,
   "id": "7a74be5e",
   "metadata": {},
   "outputs": [],
   "source": []
  }
 ],
 "metadata": {
  "kernelspec": {
   "display_name": "Python 3 (ipykernel)",
   "language": "python",
   "name": "python3"
  },
  "language_info": {
   "codemirror_mode": {
    "name": "ipython",
    "version": 3
   },
   "file_extension": ".py",
   "mimetype": "text/x-python",
   "name": "python",
   "nbconvert_exporter": "python",
   "pygments_lexer": "ipython3",
   "version": "3.11.7"
  }
 },
 "nbformat": 4,
 "nbformat_minor": 5
}
